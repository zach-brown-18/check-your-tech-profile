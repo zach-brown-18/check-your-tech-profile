{
 "cells": [
  {
   "cell_type": "markdown",
   "metadata": {},
   "source": [
    "# EDA"
   ]
  },
  {
   "cell_type": "code",
   "execution_count": 20,
   "metadata": {},
   "outputs": [],
   "source": [
    "import pandas as pd\n",
    "import numpy as np\n",
    "import matplotlib.pyplot as plt\n",
    "import seaborn as sns\n",
    "import re"
   ]
  },
  {
   "cell_type": "code",
   "execution_count": 21,
   "metadata": {},
   "outputs": [],
   "source": [
    "import httpimport\n",
    "url = 'https://raw.githubusercontent.com/zach-brown-18/class-toolkit/main/eda/'\n",
    "with httpimport.remote_repo(['cleaning'], url):\n",
    "    import cleaning as c"
   ]
  },
  {
   "cell_type": "markdown",
   "metadata": {},
   "source": [
    "---"
   ]
  },
  {
   "cell_type": "markdown",
   "metadata": {},
   "source": [
    "# Load and Look at Data"
   ]
  },
  {
   "cell_type": "code",
   "execution_count": 22,
   "metadata": {},
   "outputs": [
    {
     "name": "stdout",
     "output_type": "stream",
     "text": [
      "(21919, 12)\n"
     ]
    }
   ],
   "source": [
    "dice = pd.read_csv('../data/dice.csv', encoding='latin-1')\n",
    "print(dice.shape)"
   ]
  },
  {
   "cell_type": "code",
   "execution_count": 23,
   "metadata": {},
   "outputs": [],
   "source": [
    "# Drop the fluff\n",
    "use_cols = ['date_added', 'job_description', 'job_title', 'job_type', 'location', 'organization', 'sector']\n",
    "dice = dice.loc[:, use_cols]"
   ]
  },
  {
   "cell_type": "code",
   "execution_count": 24,
   "metadata": {},
   "outputs": [
    {
     "name": "stdout",
     "output_type": "stream",
     "text": [
      "(21919, 7)\n"
     ]
    },
    {
     "data": {
      "text/html": [
       "<div>\n",
       "<style scoped>\n",
       "    .dataframe tbody tr th:only-of-type {\n",
       "        vertical-align: middle;\n",
       "    }\n",
       "\n",
       "    .dataframe tbody tr th {\n",
       "        vertical-align: top;\n",
       "    }\n",
       "\n",
       "    .dataframe thead th {\n",
       "        text-align: right;\n",
       "    }\n",
       "</style>\n",
       "<table border=\"1\" class=\"dataframe\">\n",
       "  <thead>\n",
       "    <tr style=\"text-align: right;\">\n",
       "      <th></th>\n",
       "      <th>date_added</th>\n",
       "      <th>job_description</th>\n",
       "      <th>job_title</th>\n",
       "      <th>job_type</th>\n",
       "      <th>location</th>\n",
       "      <th>organization</th>\n",
       "      <th>sector</th>\n",
       "    </tr>\n",
       "  </thead>\n",
       "  <tbody>\n",
       "    <tr>\n",
       "      <th>0</th>\n",
       "      <td>11/11/2016</td>\n",
       "      <td>Minimum Required Skills:EDI, TrustedLink, AS2,...</td>\n",
       "      <td>EDI Analyst</td>\n",
       "      <td>Full Time, Full-time, Employee</td>\n",
       "      <td>Stamford, CT</td>\n",
       "      <td>CyberCoders</td>\n",
       "      <td>EDI, TrustedLink, AS2, VAN - EDI, TrustedLink,...</td>\n",
       "    </tr>\n",
       "    <tr>\n",
       "      <th>1</th>\n",
       "      <td>11/11/2016</td>\n",
       "      <td>InformaticaåÊ/ ETL DeveloperSt, Petersburg, FL...</td>\n",
       "      <td>Informatica ETL Developer</td>\n",
       "      <td>Full Time, Full Time</td>\n",
       "      <td>St Petersburg, FL</td>\n",
       "      <td>TrustMinds</td>\n",
       "      <td>ETL Informatica B2B Data Exchange Netezza Orac...</td>\n",
       "    </tr>\n",
       "  </tbody>\n",
       "</table>\n",
       "</div>"
      ],
      "text/plain": [
       "   date_added                                    job_description  \\\n",
       "0  11/11/2016  Minimum Required Skills:EDI, TrustedLink, AS2,...   \n",
       "1  11/11/2016  InformaticaåÊ/ ETL DeveloperSt, Petersburg, FL...   \n",
       "\n",
       "                   job_title                        job_type  \\\n",
       "0                EDI Analyst  Full Time, Full-time, Employee   \n",
       "1  Informatica ETL Developer            Full Time, Full Time   \n",
       "\n",
       "            location organization  \\\n",
       "0       Stamford, CT  CyberCoders   \n",
       "1  St Petersburg, FL   TrustMinds   \n",
       "\n",
       "                                              sector  \n",
       "0  EDI, TrustedLink, AS2, VAN - EDI, TrustedLink,...  \n",
       "1  ETL Informatica B2B Data Exchange Netezza Orac...  "
      ]
     },
     "execution_count": 24,
     "metadata": {},
     "output_type": "execute_result"
    }
   ],
   "source": [
    "# 7 total columns used\n",
    "print(dice.shape)\n",
    "dice.head(2)"
   ]
  },
  {
   "cell_type": "markdown",
   "metadata": {},
   "source": [
    "---"
   ]
  },
  {
   "cell_type": "markdown",
   "metadata": {},
   "source": [
    "# Cleaning"
   ]
  },
  {
   "cell_type": "markdown",
   "metadata": {},
   "source": [
    "## Functions"
   ]
  },
  {
   "cell_type": "code",
   "execution_count": 25,
   "metadata": {},
   "outputs": [],
   "source": [
    "def remove_special_chars(text):\n",
    "    string_encode = text.encode(\"ascii\", \"ignore\")\n",
    "    return string_encode.decode()"
   ]
  },
  {
   "cell_type": "code",
   "execution_count": 26,
   "metadata": {},
   "outputs": [],
   "source": [
    "def remove_duplicate_skills(idx,df):\n",
    "    skills = df.loc[idx, 'sector'].split(' -')[0]\n",
    "    try:\n",
    "        df.loc[idx, 'job_description'] = df.loc[idx, 'job_description'].split(skills)[1]\n",
    "    except:\n",
    "        print(f'{idx} failed.')"
   ]
  },
  {
   "cell_type": "code",
   "execution_count": 27,
   "metadata": {},
   "outputs": [],
   "source": [
    "def remove_phone_numbers(string):\n",
    "    # regex pattern to match phone numbers of different forms\n",
    "    regex1= \"\\w{3}-\\w{3}-\\w{4}\"\n",
    "    regex2= \"(\\w{3})\\w{3}-\\w{4}\"\n",
    "    \n",
    "    # remove patterns\n",
    "    replace_idx1 = [(m.start(0), m.end(0)) for m in re.finditer(regex1, string)]\n",
    "    replace_idx2 = [(m.start(0), m.end(0)) for m in re.finditer(regex2, string)]\n",
    "    patterns = [replace_idx1, replace_idx2]\n",
    "    \n",
    "    for pattern in patterns:\n",
    "        if pattern:\n",
    "            for start, stop in pattern:\n",
    "                string = string[0: start:] + string[stop::]\n",
    "    \n",
    "    return string"
   ]
  },
  {
   "cell_type": "code",
   "execution_count": 28,
   "metadata": {},
   "outputs": [],
   "source": [
    "def remove_emails(string):\n",
    "    # regex pattern to match email addresses from different email providers\n",
    "    regex1 = '\\S+@\\S+\\.com'\n",
    "    regex2 = '\\S+@\\S+\\.net'\n",
    "    \n",
    "    # remove patterns\n",
    "    replace_idx1 = [(m.start(0), m.end(0)) for m in re.finditer(regex1, string)]\n",
    "    replace_idx2 = [(m.start(0), m.end(0)) for m in re.finditer(regex2, string)]\n",
    "    patterns = [replace_idx1, replace_idx2]\n",
    "    \n",
    "    for pattern in patterns:\n",
    "        if pattern:\n",
    "            for start, stop in pattern:\n",
    "                string = string[0: start:] + string[stop::]\n",
    "    \n",
    "    return string"
   ]
  },
  {
   "cell_type": "code",
   "execution_count": 29,
   "metadata": {},
   "outputs": [],
   "source": [
    "def find_phone_numbers(string):\n",
    "    regex1= \"\\w{3}-\\w{3}-\\w{4}\"\n",
    "    regex2= \"(\\w{3})\\w{3}-\\w{4}\"\n",
    "    \n",
    "    if re.search(regex1, string) or re.search(regex2, string):\n",
    "        return 1\n",
    "    return 0\n",
    "\n",
    "def find_emails(string):\n",
    "    regex1 = '\\S+@\\S+\\.com'\n",
    "    regex2 = '\\S+@\\S+\\.net'\n",
    "    lst1, lst2 = re.findall(regex1, string), re.findall(regex2, string)\n",
    "    \n",
    "    if lst1 or lst2:\n",
    "        return 1\n",
    "    return 0"
   ]
  },
  {
   "cell_type": "code",
   "execution_count": 30,
   "metadata": {},
   "outputs": [],
   "source": [
    "# function to get rid of repeated skills after a '-'\n",
    "def split_skills(data):\n",
    "        x = data\n",
    "        nospace = x.replace(' ', '') # removing spaces\n",
    "        if '-' in nospace:\n",
    "            first_half = nospace.split('-')[0] #first half of string before '-'\n",
    "            second_half = nospace.split('-')[1] # second half of string after '-'\n",
    "            if first_half == second_half:\n",
    "                x = list(x.split('-'))[0].strip() #getting only first half of string to return\n",
    "                return x\n",
    "            else:\n",
    "                return x      \n",
    "        else:\n",
    "            return x"
   ]
  },
  {
   "cell_type": "markdown",
   "metadata": {},
   "source": [
    "---"
   ]
  },
  {
   "cell_type": "markdown",
   "metadata": {},
   "source": [
    "## Cleaning job_description"
   ]
  },
  {
   "cell_type": "code",
   "execution_count": 31,
   "metadata": {},
   "outputs": [
    {
     "name": "stdout",
     "output_type": "stream",
     "text": [
      "11646 failed.\n",
      "11655 failed.\n",
      "11676 failed.\n",
      "17688 failed.\n",
      "17697 failed.\n",
      "17733 failed.\n",
      "17734 failed.\n",
      "18800 failed.\n"
     ]
    }
   ],
   "source": [
    "# Correct multiple spaces (including \\t and \\n)\n",
    "dice['job_description'] = dice['job_description'].map(lambda x: re.sub('\\s+',' ', x))\n",
    "dice['sector'].fillna('', inplace=True)\n",
    "dice['sector'] = dice['sector'].map(lambda x: re.sub('\\s+',' ', x))\n",
    "\n",
    "# Remove special characters\n",
    "dice['job_description'] = dice['job_description'].map(remove_special_chars)\n",
    "dice['sector'] = dice['sector'].map(remove_special_chars)\n",
    "\n",
    "# Remove skills repeated in job description and sector\n",
    "skills_repeated = dice['job_description'].map(lambda x: 'Minimum Required Skills' in x)\n",
    "for row in dice.loc[skills_repeated, :].index:\n",
    "    remove_duplicate_skills(row, dice)"
   ]
  },
  {
   "cell_type": "markdown",
   "metadata": {},
   "source": [
    "## Search Duplicate Posts"
   ]
  },
  {
   "cell_type": "code",
   "execution_count": 32,
   "metadata": {},
   "outputs": [
    {
     "data": {
      "text/plain": [
       "3305"
      ]
     },
     "execution_count": 32,
     "metadata": {},
     "output_type": "execute_result"
    }
   ],
   "source": [
    "# Find duplicate posts\n",
    "description_counts = dice['job_description'].value_counts()\n",
    "multiple_posts = description_counts > 1\n",
    "description_counts[multiple_posts].sum()"
   ]
  },
  {
   "cell_type": "code",
   "execution_count": 33,
   "metadata": {},
   "outputs": [
    {
     "data": {
      "text/plain": [
       "CyberCoders               2706\n",
       "TEKsystems                 103\n",
       "Robert Half Technology      56\n",
       "Citrix                      39\n",
       "NORTHROP GRUMMAN            31\n",
       "                          ... \n",
       "Corizon Health               2\n",
       "Centene Corporation          2\n",
       "Apex Systems                 2\n",
       "Sapid Inc                    1\n",
       "ePace Technologies           1\n",
       "Name: organization, Length: 93, dtype: int64"
      ]
     },
     "execution_count": 33,
     "metadata": {},
     "output_type": "execute_result"
    }
   ],
   "source": [
    "# CyberCoders are spamming the list\n",
    "repeated_descriptions = description_counts[multiple_posts].index\n",
    "repeated_descriptions = dice['job_description'].map(lambda x: x in repeated_descriptions)\n",
    "\n",
    "dice.loc[repeated_descriptions, :]['organization'].value_counts()"
   ]
  },
  {
   "cell_type": "code",
   "execution_count": 34,
   "metadata": {},
   "outputs": [
    {
     "data": {
      "text/plain": [
       "1662"
      ]
     },
     "execution_count": 34,
     "metadata": {},
     "output_type": "execute_result"
    }
   ],
   "source": [
    "# Majority of repeated posts are only repeated once\n",
    "description_counts[description_counts == 2].sum()"
   ]
  },
  {
   "cell_type": "markdown",
   "metadata": {},
   "source": [
    "**Conclusion:** Repeated, identical posts will distort the data pool. If a post is repeated, drop all occurances but one."
   ]
  },
  {
   "cell_type": "markdown",
   "metadata": {},
   "source": [
    "## Drop Duplicate job posts"
   ]
  },
  {
   "cell_type": "code",
   "execution_count": 35,
   "metadata": {},
   "outputs": [
    {
     "name": "stdout",
     "output_type": "stream",
     "text": [
      "21919 job listings before dropping duplicates\n"
     ]
    }
   ],
   "source": [
    "print(f'{dice.shape[0]} job listings before dropping duplicates')"
   ]
  },
  {
   "cell_type": "code",
   "execution_count": 36,
   "metadata": {},
   "outputs": [
    {
     "name": "stdout",
     "output_type": "stream",
     "text": [
      "19919 job listings after dropping duplicates\n"
     ]
    }
   ],
   "source": [
    "# Define duplicate posts as having identical job description, job type and organization.\n",
    "non_duplicates = dice.drop(columns=['date_added', 'location', 'job_title', 'sector']).drop_duplicates().index\n",
    "dice = dice.loc[non_duplicates, :].reset_index(drop=True)\n",
    "\n",
    "print(f'{dice.shape[0]} job listings after dropping duplicates')"
   ]
  },
  {
   "cell_type": "code",
   "execution_count": 37,
   "metadata": {},
   "outputs": [
    {
     "name": "stdout",
     "output_type": "stream",
     "text": [
      "37 duplicates left over\n"
     ]
    }
   ],
   "source": [
    "# Find duplicate posts - still some left over\n",
    "description_counts = dice['job_description'].value_counts()\n",
    "multiple_posts = description_counts > 1\n",
    "print(f'{description_counts[multiple_posts].sum()} duplicates left over')"
   ]
  },
  {
   "cell_type": "markdown",
   "metadata": {},
   "source": [
    "## Remove phone numbers and email addresses"
   ]
  },
  {
   "cell_type": "code",
   "execution_count": 38,
   "metadata": {},
   "outputs": [],
   "source": [
    "# Track posts that have phone number or email address listed\n",
    "dice['has_email'] = dice['job_description'].map(find_emails)\n",
    "dice['has_phone_number'] = dice['job_description'].map(find_phone_numbers)"
   ]
  },
  {
   "cell_type": "code",
   "execution_count": 39,
   "metadata": {},
   "outputs": [],
   "source": [
    "# Remove them from the job description\n",
    "dice['job_description'] = dice['job_description'].map(remove_phone_numbers)\n",
    "dice['job_description'] = dice['job_description'].map(remove_emails)"
   ]
  },
  {
   "cell_type": "code",
   "execution_count": 40,
   "metadata": {},
   "outputs": [],
   "source": [
    "# Replace useless text with empty string\n",
    "mask = dice['job_description'] == 'Please send resume with rate expectations.'\n",
    "idx = dice[mask]['job_description'].index\n",
    "dice.loc[idx, 'job_description'] = ''"
   ]
  },
  {
   "cell_type": "markdown",
   "metadata": {},
   "source": [
    "## Cleaning job_title"
   ]
  },
  {
   "cell_type": "code",
   "execution_count": 41,
   "metadata": {},
   "outputs": [
    {
     "data": {
      "text/html": [
       "<div>\n",
       "<style scoped>\n",
       "    .dataframe tbody tr th:only-of-type {\n",
       "        vertical-align: middle;\n",
       "    }\n",
       "\n",
       "    .dataframe tbody tr th {\n",
       "        vertical-align: top;\n",
       "    }\n",
       "\n",
       "    .dataframe thead th {\n",
       "        text-align: right;\n",
       "    }\n",
       "</style>\n",
       "<table border=\"1\" class=\"dataframe\">\n",
       "  <thead>\n",
       "    <tr style=\"text-align: right;\">\n",
       "      <th></th>\n",
       "      <th>date_added</th>\n",
       "      <th>job_description</th>\n",
       "      <th>job_title</th>\n",
       "      <th>job_type</th>\n",
       "      <th>location</th>\n",
       "      <th>organization</th>\n",
       "      <th>sector</th>\n",
       "      <th>has_email</th>\n",
       "      <th>has_phone_number</th>\n",
       "    </tr>\n",
       "  </thead>\n",
       "  <tbody>\n",
       "    <tr>\n",
       "      <th>13601</th>\n",
       "      <td>11/4/2016</td>\n",
       "      <td>Our end client is seeking technicians with exp...</td>\n",
       "      <td>NaN</td>\n",
       "      <td>NaN</td>\n",
       "      <td>NaN</td>\n",
       "      <td>NaN</td>\n",
       "      <td></td>\n",
       "      <td>0</td>\n",
       "      <td>0</td>\n",
       "    </tr>\n",
       "  </tbody>\n",
       "</table>\n",
       "</div>"
      ],
      "text/plain": [
       "      date_added                                    job_description job_title  \\\n",
       "13601  11/4/2016  Our end client is seeking technicians with exp...       NaN   \n",
       "\n",
       "      job_type location organization sector  has_email  has_phone_number  \n",
       "13601      NaN      NaN          NaN                 0                 0  "
      ]
     },
     "execution_count": 41,
     "metadata": {},
     "output_type": "execute_result"
    }
   ],
   "source": [
    "# Finding null values in job_title\n",
    "dice[dice['job_title'].isnull()]"
   ]
  },
  {
   "cell_type": "code",
   "execution_count": 42,
   "metadata": {},
   "outputs": [],
   "source": [
    "# Removing the one null job_title\n",
    "dice = dice.dropna(subset = ['job_title'])"
   ]
  },
  {
   "cell_type": "markdown",
   "metadata": {},
   "source": [
    "### catagorizing job_title"
   ]
  },
  {
   "cell_type": "code",
   "execution_count": 43,
   "metadata": {},
   "outputs": [],
   "source": [
    "dice.loc[dice['job_title'].str.contains('Developer|developer|Dev|dev|Scrum|scrum'), \n",
    "                  'job_title'] = 'Developer'\n",
    "dice.loc[dice['job_title'].str.contains('Analyst|analyst'), \n",
    "                  'job_title'] = 'Analyst'\n",
    "dice.loc[dice['job_title'].str.contains('Programmer|programmer|Programming|programming|Full'),\n",
    "                  'job_title'] = 'Programmer'\n",
    "dice.loc[dice['job_title'].str.contains('Manager|manager|Project Coordinator|Technical Lead'), \n",
    "                  'job_title'] = 'Manager'\n",
    "dice.loc[dice['job_title'].str.contains('Engineer|engineer'), \n",
    "                  'job_title'] = 'Engineer'\n",
    "dice.loc[dice['job_title'].str.contains('Architect|architect'), \n",
    "                  'job_title'] = 'Architect'\n",
    "dice.loc[dice['job_title'].str.contains('Designer|designer'), \n",
    "                  'job_title'] = 'Designer'\n",
    "dice.loc[dice['job_title'].str.contains('Technician|technician'), \n",
    "                  'job_title'] = 'Technician'\n",
    "dice.loc[dice['job_title'].str.contains('Administrator|administrator|Admin|admin'), \n",
    "                  'job_title'] = 'Administrator'\n",
    "dice.loc[dice['job_title'].str.contains('Consulting|consulting|Consultation|consultation|Consultant|consultant'), \n",
    "                  'job_title'] = 'Consulting'\n",
    "dice.loc[dice['job_title'].str.contains('Support|support|Helpdesk'), \n",
    "                  'job_title'] = 'Support'\n",
    "dice.loc[dice['job_title'].str.contains('Director|director|CTO'),\n",
    "                  'job_title'] = 'Director'\n",
    "dice.loc[dice['job_title'].str.contains('Entry'), \n",
    "                  'job_title'] = 'Entry Position'\n",
    "dice.loc[dice['job_title'].str.contains('Data Scientist|SQL DBA|SQL Server DBA|IT'), \n",
    "                  'job_title'] = 'Data Position'"
   ]
  },
  {
   "cell_type": "code",
   "execution_count": 44,
   "metadata": {},
   "outputs": [
    {
     "data": {
      "text/plain": [
       "16983"
      ]
     },
     "execution_count": 44,
     "metadata": {},
     "output_type": "execute_result"
    }
   ],
   "source": [
    "dice['job_title'].value_counts()[0:13].sum()"
   ]
  },
  {
   "cell_type": "code",
   "execution_count": 45,
   "metadata": {},
   "outputs": [],
   "source": [
    "# Creating a list of the top 13 most popular job_titles\n",
    "keep_titles = dice['job_title'].value_counts()[:13].index.tolist()\n",
    "# Only keeping the top 13 job_titles from keep_titles\n",
    "dice = dice[dice['job_title'].isin(keep_titles)]"
   ]
  },
  {
   "cell_type": "code",
   "execution_count": 46,
   "metadata": {},
   "outputs": [
    {
     "data": {
      "text/plain": [
       "Developer        5360\n",
       "Engineer         4224\n",
       "Analyst          1942\n",
       "Manager          1417\n",
       "Administrator     912\n",
       "Architect         841\n",
       "Consulting        598\n",
       "Technician        353\n",
       "Support           347\n",
       "Programmer        325\n",
       "Data Position     291\n",
       "Designer          224\n",
       "Director          149\n",
       "Name: job_title, dtype: int64"
      ]
     },
     "execution_count": 46,
     "metadata": {},
     "output_type": "execute_result"
    }
   ],
   "source": [
    "dice['job_title'].value_counts()"
   ]
  },
  {
   "cell_type": "markdown",
   "metadata": {},
   "source": [
    "## Cleaning location"
   ]
  },
  {
   "cell_type": "markdown",
   "metadata": {},
   "source": [
    "### Catagorizing location"
   ]
  },
  {
   "cell_type": "code",
   "execution_count": 47,
   "metadata": {
    "scrolled": true
   },
   "outputs": [
    {
     "data": {
      "text/html": [
       "<div>\n",
       "<style scoped>\n",
       "    .dataframe tbody tr th:only-of-type {\n",
       "        vertical-align: middle;\n",
       "    }\n",
       "\n",
       "    .dataframe tbody tr th {\n",
       "        vertical-align: top;\n",
       "    }\n",
       "\n",
       "    .dataframe thead th {\n",
       "        text-align: right;\n",
       "    }\n",
       "</style>\n",
       "<table border=\"1\" class=\"dataframe\">\n",
       "  <thead>\n",
       "    <tr style=\"text-align: right;\">\n",
       "      <th></th>\n",
       "      <th>date_added</th>\n",
       "      <th>job_description</th>\n",
       "      <th>job_title</th>\n",
       "      <th>job_type</th>\n",
       "      <th>location</th>\n",
       "      <th>organization</th>\n",
       "      <th>sector</th>\n",
       "      <th>has_email</th>\n",
       "      <th>has_phone_number</th>\n",
       "    </tr>\n",
       "  </thead>\n",
       "  <tbody>\n",
       "    <tr>\n",
       "      <th>0</th>\n",
       "      <td>11/11/2016</td>\n",
       "      <td>If you are an EDI Analyst with experience, ple...</td>\n",
       "      <td>Analyst</td>\n",
       "      <td>Full Time, Full-time, Employee</td>\n",
       "      <td>Northeast United States</td>\n",
       "      <td>CyberCoders</td>\n",
       "      <td>EDI, TrustedLink, AS2, VAN - EDI, TrustedLink,...</td>\n",
       "      <td>0</td>\n",
       "      <td>0</td>\n",
       "    </tr>\n",
       "    <tr>\n",
       "      <th>1</th>\n",
       "      <td>11/11/2016</td>\n",
       "      <td>Informatica/ ETL DeveloperSt, Petersburg, FL O...</td>\n",
       "      <td>Developer</td>\n",
       "      <td>Full Time, Full Time</td>\n",
       "      <td>Southern United States</td>\n",
       "      <td>TrustMinds</td>\n",
       "      <td>ETL Informatica B2B Data Exchange Netezza Orac...</td>\n",
       "      <td>0</td>\n",
       "      <td>0</td>\n",
       "    </tr>\n",
       "    <tr>\n",
       "      <th>2</th>\n",
       "      <td>11/11/2016</td>\n",
       "      <td>Sunnyvale , CAANGULARJSdeveloperswithhibernat...</td>\n",
       "      <td>Developer</td>\n",
       "      <td>Full Time, Contract Corp-To-Corp, Contract Ind...</td>\n",
       "      <td>Western United States</td>\n",
       "      <td>K Anand Corporation</td>\n",
       "      <td>Angular</td>\n",
       "      <td>1</td>\n",
       "      <td>1</td>\n",
       "    </tr>\n",
       "  </tbody>\n",
       "</table>\n",
       "</div>"
      ],
      "text/plain": [
       "   date_added                                    job_description  job_title  \\\n",
       "0  11/11/2016  If you are an EDI Analyst with experience, ple...    Analyst   \n",
       "1  11/11/2016  Informatica/ ETL DeveloperSt, Petersburg, FL O...  Developer   \n",
       "2  11/11/2016   Sunnyvale , CAANGULARJSdeveloperswithhibernat...  Developer   \n",
       "\n",
       "                                            job_type                 location  \\\n",
       "0                     Full Time, Full-time, Employee  Northeast United States   \n",
       "1                               Full Time, Full Time   Southern United States   \n",
       "2  Full Time, Contract Corp-To-Corp, Contract Ind...    Western United States   \n",
       "\n",
       "          organization                                             sector  \\\n",
       "0          CyberCoders  EDI, TrustedLink, AS2, VAN - EDI, TrustedLink,...   \n",
       "1           TrustMinds  ETL Informatica B2B Data Exchange Netezza Orac...   \n",
       "2  K Anand Corporation                                            Angular   \n",
       "\n",
       "   has_email  has_phone_number  \n",
       "0          0                 0  \n",
       "1          0                 0  \n",
       "2          1                 1  "
      ]
     },
     "execution_count": 47,
     "metadata": {},
     "output_type": "execute_result"
    }
   ],
   "source": [
    "dice.loc[dice['location'].str.contains('ME|NH|VT|MA|MARYLAND|Laurel|CT|Ct|RI|NY|Ny|PA|NJ|Reading|OTHER|Portsmouth|West Chester'),\n",
    "                  'location'] = 'Northeast United States'\n",
    "\n",
    "dice.loc[dice['location'].str.contains('MI|OH|IN|IL|Il|WI|MN|IA|Ia|MO|Mo|KS|NE|ND|SD|Farmington|Lake County|Ashland'),\n",
    "                  'location'] = 'Midwest United States'\n",
    "\n",
    "dice.loc[dice['location'].str.contains('DE|MD|Md|DC|WV|VA|NC|SC|Anderson|KY|Ky|TN|GA|Ga|MS|AL|AR|OK|TX|Stafford|Austin|LA|La|FL|Boca Raton|South'),\n",
    "                  'location'] = 'Southern United States'\n",
    "\n",
    "dice.loc[dice['location'].str.contains('MT|WY|CO|Co|NM|AZ|UT|ID|Id|NV|CA|Ca|OR|WA|AK|HI|Hi|Pasadena|Redmond|Greenwood Village|San Francisco'),\n",
    "                  'location'] = 'Western United States'\n",
    "\n",
    "dice.loc[dice['location'].str.contains('Hyderabad|London|Bangalore|Dublin|Taguig City|ON|BC|Windsor'),\n",
    "                  'location'] = 'International'\n",
    "\n",
    "dice.loc[dice['location'].str.contains('STATE|City|Satellite Office; North America-us-il-chicago; Nor|United States Of America'),\n",
    "                  'location'] = 'Unknown'\n",
    "dice.head(3)"
   ]
  },
  {
   "cell_type": "code",
   "execution_count": 48,
   "metadata": {},
   "outputs": [],
   "source": [
    "# Creating a list of top 4 locations\n",
    "keep_locations = dice['location'].value_counts()[:4].index.tolist()\n",
    "\n",
    "# Only keeping the top 4 locations from list keep_locations\n",
    "dice = dice[dice['location'].isin(keep_locations)]"
   ]
  },
  {
   "cell_type": "code",
   "execution_count": 49,
   "metadata": {},
   "outputs": [
    {
     "data": {
      "text/plain": [
       "Southern United States     5303\n",
       "Western United States      4533\n",
       "Northeast United States    4232\n",
       "Midwest United States      2783\n",
       "Name: location, dtype: int64"
      ]
     },
     "execution_count": 49,
     "metadata": {},
     "output_type": "execute_result"
    }
   ],
   "source": [
    "dice['location'].value_counts()"
   ]
  },
  {
   "cell_type": "markdown",
   "metadata": {},
   "source": [
    "## Cleaning job_type"
   ]
  },
  {
   "cell_type": "code",
   "execution_count": 50,
   "metadata": {},
   "outputs": [],
   "source": [
    "# Droping 238 rows of data that are null for job_type.\n",
    "dice.dropna(subset = ['job_type'], inplace=True)"
   ]
  },
  {
   "cell_type": "markdown",
   "metadata": {},
   "source": [
    "### Catagorizing job_type"
   ]
  },
  {
   "cell_type": "code",
   "execution_count": 51,
   "metadata": {},
   "outputs": [
    {
     "data": {
      "text/html": [
       "<div>\n",
       "<style scoped>\n",
       "    .dataframe tbody tr th:only-of-type {\n",
       "        vertical-align: middle;\n",
       "    }\n",
       "\n",
       "    .dataframe tbody tr th {\n",
       "        vertical-align: top;\n",
       "    }\n",
       "\n",
       "    .dataframe thead th {\n",
       "        text-align: right;\n",
       "    }\n",
       "</style>\n",
       "<table border=\"1\" class=\"dataframe\">\n",
       "  <thead>\n",
       "    <tr style=\"text-align: right;\">\n",
       "      <th></th>\n",
       "      <th>date_added</th>\n",
       "      <th>job_description</th>\n",
       "      <th>job_title</th>\n",
       "      <th>job_type</th>\n",
       "      <th>location</th>\n",
       "      <th>organization</th>\n",
       "      <th>sector</th>\n",
       "      <th>has_email</th>\n",
       "      <th>has_phone_number</th>\n",
       "    </tr>\n",
       "  </thead>\n",
       "  <tbody>\n",
       "    <tr>\n",
       "      <th>0</th>\n",
       "      <td>11/11/2016</td>\n",
       "      <td>If you are an EDI Analyst with experience, ple...</td>\n",
       "      <td>Analyst</td>\n",
       "      <td>Full Time</td>\n",
       "      <td>Northeast United States</td>\n",
       "      <td>CyberCoders</td>\n",
       "      <td>EDI, TrustedLink, AS2, VAN - EDI, TrustedLink,...</td>\n",
       "      <td>0</td>\n",
       "      <td>0</td>\n",
       "    </tr>\n",
       "    <tr>\n",
       "      <th>1</th>\n",
       "      <td>11/11/2016</td>\n",
       "      <td>Informatica/ ETL DeveloperSt, Petersburg, FL O...</td>\n",
       "      <td>Developer</td>\n",
       "      <td>Full Time</td>\n",
       "      <td>Southern United States</td>\n",
       "      <td>TrustMinds</td>\n",
       "      <td>ETL Informatica B2B Data Exchange Netezza Orac...</td>\n",
       "      <td>0</td>\n",
       "      <td>0</td>\n",
       "    </tr>\n",
       "    <tr>\n",
       "      <th>2</th>\n",
       "      <td>11/11/2016</td>\n",
       "      <td>Sunnyvale , CAANGULARJSdeveloperswithhibernat...</td>\n",
       "      <td>Developer</td>\n",
       "      <td>Full Time</td>\n",
       "      <td>Western United States</td>\n",
       "      <td>K Anand Corporation</td>\n",
       "      <td>Angular</td>\n",
       "      <td>1</td>\n",
       "      <td>1</td>\n",
       "    </tr>\n",
       "  </tbody>\n",
       "</table>\n",
       "</div>"
      ],
      "text/plain": [
       "   date_added                                    job_description  job_title  \\\n",
       "0  11/11/2016  If you are an EDI Analyst with experience, ple...    Analyst   \n",
       "1  11/11/2016  Informatica/ ETL DeveloperSt, Petersburg, FL O...  Developer   \n",
       "2  11/11/2016   Sunnyvale , CAANGULARJSdeveloperswithhibernat...  Developer   \n",
       "\n",
       "    job_type                 location         organization  \\\n",
       "0  Full Time  Northeast United States          CyberCoders   \n",
       "1  Full Time   Southern United States           TrustMinds   \n",
       "2  Full Time    Western United States  K Anand Corporation   \n",
       "\n",
       "                                              sector  has_email  \\\n",
       "0  EDI, TrustedLink, AS2, VAN - EDI, TrustedLink,...          0   \n",
       "1  ETL Informatica B2B Data Exchange Netezza Orac...          0   \n",
       "2                                            Angular          1   \n",
       "\n",
       "   has_phone_number  \n",
       "0                 0  \n",
       "1                 0  \n",
       "2                 1  "
      ]
     },
     "execution_count": 51,
     "metadata": {},
     "output_type": "execute_result"
    }
   ],
   "source": [
    "dice.loc[dice['job_type'].str.contains('Full Time|Full-time|per year|per'),\n",
    "                  'job_type'] = 'Full Time'\n",
    "\n",
    "dice.loc[dice['job_type'].str.contains('Contract|contract|C2H'),\n",
    "                  'job_type'] = 'Contract'\n",
    "\n",
    "dice.loc[dice['job_type'].str.contains('Part Time'),\n",
    "                  'job_type'] = 'Part Time'\n",
    "\n",
    "dice.loc[dice['job_type'].str.contains('Market related|Market|Negotiable'),\n",
    "                  'job_type'] = 'Market Dependent'\n",
    "\n",
    "dice.loc[dice['job_type'].str.contains('-|EXPERIENCE|RELOCATION|define'),\n",
    "                  'job_type'] = 'Unknown'\n",
    "\n",
    "dice.head(3)"
   ]
  },
  {
   "cell_type": "code",
   "execution_count": 52,
   "metadata": {},
   "outputs": [
    {
     "data": {
      "text/plain": [
       "Full Time           10389\n",
       "Contract             6102\n",
       "Market Dependent      126\n",
       "Unknown                32\n",
       "Part Time               9\n",
       "Competitive             3\n",
       "Name: job_type, dtype: int64"
      ]
     },
     "execution_count": 52,
     "metadata": {},
     "output_type": "execute_result"
    }
   ],
   "source": [
    "dice['job_type'].value_counts()"
   ]
  },
  {
   "cell_type": "markdown",
   "metadata": {},
   "source": [
    "## Cleaning sector"
   ]
  },
  {
   "cell_type": "code",
   "execution_count": 53,
   "metadata": {},
   "outputs": [],
   "source": [
    "# renaming sector to be more descriptive\n",
    "dice=dice.rename(columns = {'sector':'skills'})"
   ]
  },
  {
   "cell_type": "code",
   "execution_count": 54,
   "metadata": {},
   "outputs": [],
   "source": [
    "# lowercasing skills\n",
    "dice['skills']= dice['skills'].str.lower()"
   ]
  },
  {
   "cell_type": "markdown",
   "metadata": {},
   "source": [
    "### Removing commas, backslashes and extra spaces"
   ]
  },
  {
   "cell_type": "code",
   "execution_count": 55,
   "metadata": {},
   "outputs": [],
   "source": [
    "# replacing commas with a space\n",
    "dice['skills'] = dice['skills'].str.replace(',', ' ')"
   ]
  },
  {
   "cell_type": "code",
   "execution_count": 56,
   "metadata": {},
   "outputs": [],
   "source": [
    "# replcaing / with space\n",
    "dice['skills'] = dice['skills'].str.replace('/', ' ')"
   ]
  },
  {
   "cell_type": "code",
   "execution_count": 57,
   "metadata": {},
   "outputs": [],
   "source": [
    "# making sure no extra spaces. help from : https://stackoverflow.com/questions/43071415/remove-multiple-blanks-in-dataframe\n",
    "dice['skills'] = dice['skills'].replace('\\s+', ' ', regex=True)"
   ]
  },
  {
   "cell_type": "markdown",
   "metadata": {},
   "source": [
    "### Looking at skills string length"
   ]
  },
  {
   "cell_type": "code",
   "execution_count": 58,
   "metadata": {},
   "outputs": [],
   "source": [
    "# creating a new column for skills string length\n",
    "dice['skills_len'] = dice['skills'].str.split().map(lambda x: len(x))"
   ]
  },
  {
   "cell_type": "code",
   "execution_count": 59,
   "metadata": {},
   "outputs": [
    {
     "data": {
      "text/html": [
       "<div>\n",
       "<style scoped>\n",
       "    .dataframe tbody tr th:only-of-type {\n",
       "        vertical-align: middle;\n",
       "    }\n",
       "\n",
       "    .dataframe tbody tr th {\n",
       "        vertical-align: top;\n",
       "    }\n",
       "\n",
       "    .dataframe thead th {\n",
       "        text-align: right;\n",
       "    }\n",
       "</style>\n",
       "<table border=\"1\" class=\"dataframe\">\n",
       "  <thead>\n",
       "    <tr style=\"text-align: right;\">\n",
       "      <th></th>\n",
       "      <th>date_added</th>\n",
       "      <th>job_description</th>\n",
       "      <th>job_title</th>\n",
       "      <th>job_type</th>\n",
       "      <th>location</th>\n",
       "      <th>organization</th>\n",
       "      <th>skills</th>\n",
       "      <th>has_email</th>\n",
       "      <th>has_phone_number</th>\n",
       "      <th>skills_len</th>\n",
       "    </tr>\n",
       "  </thead>\n",
       "  <tbody>\n",
       "    <tr>\n",
       "      <th>22</th>\n",
       "      <td>11/12/2016</td>\n",
       "      <td>Senior Java DeveloperLocation: SunnyvaleStart ...</td>\n",
       "      <td>Developer</td>\n",
       "      <td>Contract</td>\n",
       "      <td>Western United States</td>\n",
       "      <td>TEKsystems</td>\n",
       "      <td>java developer</td>\n",
       "      <td>0</td>\n",
       "      <td>1</td>\n",
       "      <td>2</td>\n",
       "    </tr>\n",
       "    <tr>\n",
       "      <th>39</th>\n",
       "      <td>11/11/2016</td>\n",
       "      <td>Client is looking for a \"AEM CQ5 Developer\" in...</td>\n",
       "      <td>Developer</td>\n",
       "      <td>Contract</td>\n",
       "      <td>Northeast United States</td>\n",
       "      <td>Nutech Information Systems</td>\n",
       "      <td>aem cq5</td>\n",
       "      <td>1</td>\n",
       "      <td>1</td>\n",
       "      <td>2</td>\n",
       "    </tr>\n",
       "    <tr>\n",
       "      <th>40</th>\n",
       "      <td>11/12/2016</td>\n",
       "      <td>As the Project Manager for and HR Solutions te...</td>\n",
       "      <td>Manager</td>\n",
       "      <td>Contract</td>\n",
       "      <td>Western United States</td>\n",
       "      <td>TEKsystems</td>\n",
       "      <td>project manager</td>\n",
       "      <td>0</td>\n",
       "      <td>1</td>\n",
       "      <td>2</td>\n",
       "    </tr>\n",
       "  </tbody>\n",
       "</table>\n",
       "</div>"
      ],
      "text/plain": [
       "    date_added                                    job_description  job_title  \\\n",
       "22  11/12/2016  Senior Java DeveloperLocation: SunnyvaleStart ...  Developer   \n",
       "39  11/11/2016  Client is looking for a \"AEM CQ5 Developer\" in...  Developer   \n",
       "40  11/12/2016  As the Project Manager for and HR Solutions te...    Manager   \n",
       "\n",
       "    job_type                 location                organization  \\\n",
       "22  Contract    Western United States                  TEKsystems   \n",
       "39  Contract  Northeast United States  Nutech Information Systems   \n",
       "40  Contract    Western United States                  TEKsystems   \n",
       "\n",
       "             skills  has_email  has_phone_number  skills_len  \n",
       "22   java developer          0                 1           2  \n",
       "39          aem cq5          1                 1           2  \n",
       "40  project manager          0                 1           2  "
      ]
     },
     "execution_count": 59,
     "metadata": {},
     "output_type": "execute_result"
    }
   ],
   "source": [
    "dice[dice['skills_len'] ==2].head(3)"
   ]
  },
  {
   "cell_type": "code",
   "execution_count": 60,
   "metadata": {},
   "outputs": [
    {
     "data": {
      "text/html": [
       "<div>\n",
       "<style scoped>\n",
       "    .dataframe tbody tr th:only-of-type {\n",
       "        vertical-align: middle;\n",
       "    }\n",
       "\n",
       "    .dataframe tbody tr th {\n",
       "        vertical-align: top;\n",
       "    }\n",
       "\n",
       "    .dataframe thead th {\n",
       "        text-align: right;\n",
       "    }\n",
       "</style>\n",
       "<table border=\"1\" class=\"dataframe\">\n",
       "  <thead>\n",
       "    <tr style=\"text-align: right;\">\n",
       "      <th></th>\n",
       "      <th>date_added</th>\n",
       "      <th>job_description</th>\n",
       "      <th>job_title</th>\n",
       "      <th>job_type</th>\n",
       "      <th>location</th>\n",
       "      <th>organization</th>\n",
       "      <th>skills</th>\n",
       "      <th>has_email</th>\n",
       "      <th>has_phone_number</th>\n",
       "      <th>skills_len</th>\n",
       "    </tr>\n",
       "  </thead>\n",
       "  <tbody>\n",
       "    <tr>\n",
       "      <th>7</th>\n",
       "      <td>11/11/2016</td>\n",
       "      <td>Linux System Administrator opportunity- with i...</td>\n",
       "      <td>Administrator</td>\n",
       "      <td>Full Time</td>\n",
       "      <td>Northeast United States</td>\n",
       "      <td>Landover Assocates</td>\n",
       "      <td>linux system administrator</td>\n",
       "      <td>0</td>\n",
       "      <td>0</td>\n",
       "      <td>3</td>\n",
       "    </tr>\n",
       "    <tr>\n",
       "      <th>43</th>\n",
       "      <td>11/11/2016</td>\n",
       "      <td>The suitable candidate should be familier with...</td>\n",
       "      <td>Architect</td>\n",
       "      <td>Full Time</td>\n",
       "      <td>Southern United States</td>\n",
       "      <td>Sanrose Information Services Inc.</td>\n",
       "      <td>apex data solutions</td>\n",
       "      <td>0</td>\n",
       "      <td>0</td>\n",
       "      <td>3</td>\n",
       "    </tr>\n",
       "    <tr>\n",
       "      <th>48</th>\n",
       "      <td>11/12/2016</td>\n",
       "      <td>**Must have at least 1 year of professional Na...</td>\n",
       "      <td>Designer</td>\n",
       "      <td>Contract</td>\n",
       "      <td>Western United States</td>\n",
       "      <td>TEKsystems</td>\n",
       "      <td>mobile ux designer</td>\n",
       "      <td>0</td>\n",
       "      <td>0</td>\n",
       "      <td>3</td>\n",
       "    </tr>\n",
       "  </tbody>\n",
       "</table>\n",
       "</div>"
      ],
      "text/plain": [
       "    date_added                                    job_description  \\\n",
       "7   11/11/2016  Linux System Administrator opportunity- with i...   \n",
       "43  11/11/2016  The suitable candidate should be familier with...   \n",
       "48  11/12/2016  **Must have at least 1 year of professional Na...   \n",
       "\n",
       "        job_title   job_type                 location  \\\n",
       "7   Administrator  Full Time  Northeast United States   \n",
       "43      Architect  Full Time   Southern United States   \n",
       "48       Designer   Contract    Western United States   \n",
       "\n",
       "                         organization                      skills  has_email  \\\n",
       "7                  Landover Assocates  linux system administrator          0   \n",
       "43  Sanrose Information Services Inc.         apex data solutions          0   \n",
       "48                         TEKsystems          mobile ux designer          0   \n",
       "\n",
       "    has_phone_number  skills_len  \n",
       "7                  0           3  \n",
       "43                 0           3  \n",
       "48                 0           3  "
      ]
     },
     "execution_count": 60,
     "metadata": {},
     "output_type": "execute_result"
    }
   ],
   "source": [
    "dice[dice['skills_len'] ==3].head(3)"
   ]
  },
  {
   "cell_type": "markdown",
   "metadata": {},
   "source": [
    "We can see that many of the skills are actually just the title of the job or job type. These should be changed to an empty string."
   ]
  },
  {
   "cell_type": "markdown",
   "metadata": {},
   "source": [
    "### Cleaning skills of already described features"
   ]
  },
  {
   "cell_type": "code",
   "execution_count": 61,
   "metadata": {},
   "outputs": [],
   "source": [
    "# if skill is just the job title replace with a empty string\n",
    "dice[dice['skills'] ==  dice['job_title'].str.lower()] = \"\""
   ]
  },
  {
   "cell_type": "code",
   "execution_count": 62,
   "metadata": {},
   "outputs": [
    {
     "data": {
      "text/plain": [
       "see job description                162\n",
       "contract w2                         71\n",
       "full time                           56\n",
       "                                    38\n",
       "network engineer                    30\n",
       "please refer to job description     25\n",
       "project manager                     22\n",
       ".net developer                      22\n",
       "business analyst                    20\n",
       "c2h w2                              18\n",
       "Name: skills, dtype: int64"
      ]
     },
     "execution_count": 62,
     "metadata": {},
     "output_type": "execute_result"
    }
   ],
   "source": [
    "dice['skills'].value_counts().head(10)"
   ]
  },
  {
   "cell_type": "code",
   "execution_count": 63,
   "metadata": {},
   "outputs": [],
   "source": [
    "# changing additional non-skills to empty strings\n",
    "dice['skills'][dice['skills'] == 'Telecommuting not available Travel not required'.lower()] = ''\n",
    "dice['skills'][dice['skills'] == 'Full Time'.lower()] = ''\n",
    "dice['skills'][dice['skills'] == 'Contract W2'.lower()] = ''\n",
    "dice['skills'][dice['skills'] == 'tad pgs inc. specializes in delivering secure reliable and rapidly implemented workforce solutions to the u.s. federal marketplace including u.s. government agencies and their prime contractors. wi'] = ''\n",
    "dice['skills'][dice['skills'] == 'see job description'] = ''\n",
    "dice['skills'][dice['skills'] == 'please refer to job description'] = ''\n",
    "dice['skills'][dice['skills'] == '(see job description)'] = ''\n",
    "dice['skills'][dice['skills'] == 'refer to job description'] = ''"
   ]
  },
  {
   "cell_type": "markdown",
   "metadata": {},
   "source": [
    "### Dealing with duplicate words"
   ]
  },
  {
   "cell_type": "code",
   "execution_count": 64,
   "metadata": {},
   "outputs": [],
   "source": [
    "# removing duplicate words in a row\n",
    "# help from:https://stackoverflow.com/questions/47316783/python-dataframe-remove-duplicate-words-in-the-same-cell-within-a-column-in-pyt\n",
    "dice['skills'] = dice['skills'].str.replace(r'\\b(\\w+)(\\s+\\1)+\\b', r'\\1')"
   ]
  },
  {
   "cell_type": "code",
   "execution_count": 65,
   "metadata": {},
   "outputs": [],
   "source": [
    "# some postings had repeat word after -\n",
    "# mapping split_skills to whole skills row\n",
    "dice['skills'] = dice['skills'].map(split_skills)"
   ]
  },
  {
   "cell_type": "markdown",
   "metadata": {},
   "source": [
    "# Final DataFrame"
   ]
  },
  {
   "cell_type": "code",
   "execution_count": 66,
   "metadata": {},
   "outputs": [
    {
     "data": {
      "text/html": [
       "<div>\n",
       "<style scoped>\n",
       "    .dataframe tbody tr th:only-of-type {\n",
       "        vertical-align: middle;\n",
       "    }\n",
       "\n",
       "    .dataframe tbody tr th {\n",
       "        vertical-align: top;\n",
       "    }\n",
       "\n",
       "    .dataframe thead th {\n",
       "        text-align: right;\n",
       "    }\n",
       "</style>\n",
       "<table border=\"1\" class=\"dataframe\">\n",
       "  <thead>\n",
       "    <tr style=\"text-align: right;\">\n",
       "      <th></th>\n",
       "      <th>date_added</th>\n",
       "      <th>job_description</th>\n",
       "      <th>job_title</th>\n",
       "      <th>job_type</th>\n",
       "      <th>location</th>\n",
       "      <th>organization</th>\n",
       "      <th>skills</th>\n",
       "      <th>has_email</th>\n",
       "      <th>has_phone_number</th>\n",
       "      <th>skills_len</th>\n",
       "    </tr>\n",
       "  </thead>\n",
       "  <tbody>\n",
       "    <tr>\n",
       "      <th>0</th>\n",
       "      <td>11/11/2016</td>\n",
       "      <td>If you are an EDI Analyst with experience, ple...</td>\n",
       "      <td>Analyst</td>\n",
       "      <td>Full Time</td>\n",
       "      <td>Northeast United States</td>\n",
       "      <td>CyberCoders</td>\n",
       "      <td>edi trustedlink as2 van</td>\n",
       "      <td>0</td>\n",
       "      <td>0</td>\n",
       "      <td>9</td>\n",
       "    </tr>\n",
       "    <tr>\n",
       "      <th>1</th>\n",
       "      <td>11/11/2016</td>\n",
       "      <td>Informatica/ ETL DeveloperSt, Petersburg, FL O...</td>\n",
       "      <td>Developer</td>\n",
       "      <td>Full Time</td>\n",
       "      <td>Southern United States</td>\n",
       "      <td>TrustMinds</td>\n",
       "      <td>etl informatica b2b data exchange netezza orac...</td>\n",
       "      <td>0</td>\n",
       "      <td>0</td>\n",
       "      <td>8</td>\n",
       "    </tr>\n",
       "    <tr>\n",
       "      <th>2</th>\n",
       "      <td>11/11/2016</td>\n",
       "      <td>Sunnyvale , CAANGULARJSdeveloperswithhibernat...</td>\n",
       "      <td>Developer</td>\n",
       "      <td>Full Time</td>\n",
       "      <td>Western United States</td>\n",
       "      <td>K Anand Corporation</td>\n",
       "      <td>angular</td>\n",
       "      <td>1</td>\n",
       "      <td>1</td>\n",
       "      <td>1</td>\n",
       "    </tr>\n",
       "    <tr>\n",
       "      <th>3</th>\n",
       "      <td>11/12/2016</td>\n",
       "      <td>This nationally recognized Microsoft Gold Part...</td>\n",
       "      <td>Manager</td>\n",
       "      <td>Full Time</td>\n",
       "      <td>Western United States</td>\n",
       "      <td>Nigel Frank International</td>\n",
       "      <td>microsoft dynamics ax project manager - toront...</td>\n",
       "      <td>1</td>\n",
       "      <td>1</td>\n",
       "      <td>10</td>\n",
       "    </tr>\n",
       "    <tr>\n",
       "      <th>4</th>\n",
       "      <td>11/11/2016</td>\n",
       "      <td>If you are a .NET Developer with experience, p...</td>\n",
       "      <td>Developer</td>\n",
       "      <td>Full Time</td>\n",
       "      <td>Northeast United States</td>\n",
       "      <td>CyberCoders</td>\n",
       "      <td>c# asp.net sql javascript mvc</td>\n",
       "      <td>1</td>\n",
       "      <td>0</td>\n",
       "      <td>11</td>\n",
       "    </tr>\n",
       "    <tr>\n",
       "      <th>...</th>\n",
       "      <td>...</td>\n",
       "      <td>...</td>\n",
       "      <td>...</td>\n",
       "      <td>...</td>\n",
       "      <td>...</td>\n",
       "      <td>...</td>\n",
       "      <td>...</td>\n",
       "      <td>...</td>\n",
       "      <td>...</td>\n",
       "      <td>...</td>\n",
       "    </tr>\n",
       "    <tr>\n",
       "      <th>19913</th>\n",
       "      <td>12/9/2016</td>\n",
       "      <td>Job Description  JPMorgan Chase &amp; Co. (NYSE: J...</td>\n",
       "      <td>Developer</td>\n",
       "      <td>Full Time</td>\n",
       "      <td>Northeast United States</td>\n",
       "      <td>JPMorgan Chase</td>\n",
       "      <td>.net architecture developer development git ht...</td>\n",
       "      <td>0</td>\n",
       "      <td>1</td>\n",
       "      <td>26</td>\n",
       "    </tr>\n",
       "    <tr>\n",
       "      <th>19914</th>\n",
       "      <td>12/9/2016</td>\n",
       "      <td>Seeking Jr. Systems Administrators with experi...</td>\n",
       "      <td>Administrator</td>\n",
       "      <td>Contract</td>\n",
       "      <td>Midwest United States</td>\n",
       "      <td>TEKsystems</td>\n",
       "      <td>jr. linux administrator</td>\n",
       "      <td>0</td>\n",
       "      <td>0</td>\n",
       "      <td>3</td>\n",
       "    </tr>\n",
       "    <tr>\n",
       "      <th>19915</th>\n",
       "      <td>12/9/2016</td>\n",
       "      <td>If you are a Senior/Lead Devops Engineer with ...</td>\n",
       "      <td>Developer</td>\n",
       "      <td>Full Time</td>\n",
       "      <td>Midwest United States</td>\n",
       "      <td>CyberCoders</td>\n",
       "      <td>amazon web services linux bash ruby python agile</td>\n",
       "      <td>1</td>\n",
       "      <td>0</td>\n",
       "      <td>17</td>\n",
       "    </tr>\n",
       "    <tr>\n",
       "      <th>19917</th>\n",
       "      <td>12/9/2016</td>\n",
       "      <td>Headquartered in downtown San Francisco, CA we...</td>\n",
       "      <td>Developer</td>\n",
       "      <td>Full Time</td>\n",
       "      <td>Western United States</td>\n",
       "      <td>CyberCoders</td>\n",
       "      <td>javascript react.js golang startup ror iot ana...</td>\n",
       "      <td>0</td>\n",
       "      <td>1</td>\n",
       "      <td>23</td>\n",
       "    </tr>\n",
       "    <tr>\n",
       "      <th>19918</th>\n",
       "      <td>12/9/2016</td>\n",
       "      <td>If you are an AppSec or Hardware Security Engi...</td>\n",
       "      <td>Engineer</td>\n",
       "      <td>Full Time</td>\n",
       "      <td>Western United States</td>\n",
       "      <td>CyberCoders</td>\n",
       "      <td>c++ .net java software application security ha...</td>\n",
       "      <td>0</td>\n",
       "      <td>0</td>\n",
       "      <td>21</td>\n",
       "    </tr>\n",
       "  </tbody>\n",
       "</table>\n",
       "<p>16661 rows × 10 columns</p>\n",
       "</div>"
      ],
      "text/plain": [
       "       date_added                                    job_description  \\\n",
       "0      11/11/2016  If you are an EDI Analyst with experience, ple...   \n",
       "1      11/11/2016  Informatica/ ETL DeveloperSt, Petersburg, FL O...   \n",
       "2      11/11/2016   Sunnyvale , CAANGULARJSdeveloperswithhibernat...   \n",
       "3      11/12/2016  This nationally recognized Microsoft Gold Part...   \n",
       "4      11/11/2016  If you are a .NET Developer with experience, p...   \n",
       "...           ...                                                ...   \n",
       "19913   12/9/2016  Job Description  JPMorgan Chase & Co. (NYSE: J...   \n",
       "19914   12/9/2016  Seeking Jr. Systems Administrators with experi...   \n",
       "19915   12/9/2016  If you are a Senior/Lead Devops Engineer with ...   \n",
       "19917   12/9/2016  Headquartered in downtown San Francisco, CA we...   \n",
       "19918   12/9/2016  If you are an AppSec or Hardware Security Engi...   \n",
       "\n",
       "           job_title   job_type                 location  \\\n",
       "0            Analyst  Full Time  Northeast United States   \n",
       "1          Developer  Full Time   Southern United States   \n",
       "2          Developer  Full Time    Western United States   \n",
       "3            Manager  Full Time    Western United States   \n",
       "4          Developer  Full Time  Northeast United States   \n",
       "...              ...        ...                      ...   \n",
       "19913      Developer  Full Time  Northeast United States   \n",
       "19914  Administrator   Contract    Midwest United States   \n",
       "19915      Developer  Full Time    Midwest United States   \n",
       "19917      Developer  Full Time    Western United States   \n",
       "19918       Engineer  Full Time    Western United States   \n",
       "\n",
       "                    organization  \\\n",
       "0                    CyberCoders   \n",
       "1                     TrustMinds   \n",
       "2            K Anand Corporation   \n",
       "3      Nigel Frank International   \n",
       "4                    CyberCoders   \n",
       "...                          ...   \n",
       "19913             JPMorgan Chase   \n",
       "19914                 TEKsystems   \n",
       "19915                CyberCoders   \n",
       "19917                CyberCoders   \n",
       "19918                CyberCoders   \n",
       "\n",
       "                                                  skills has_email  \\\n",
       "0                                edi trustedlink as2 van         0   \n",
       "1      etl informatica b2b data exchange netezza orac...         0   \n",
       "2                                                angular         1   \n",
       "3      microsoft dynamics ax project manager - toront...         1   \n",
       "4                          c# asp.net sql javascript mvc         1   \n",
       "...                                                  ...       ...   \n",
       "19913  .net architecture developer development git ht...         0   \n",
       "19914                            jr. linux administrator         0   \n",
       "19915   amazon web services linux bash ruby python agile         1   \n",
       "19917  javascript react.js golang startup ror iot ana...         0   \n",
       "19918  c++ .net java software application security ha...         0   \n",
       "\n",
       "      has_phone_number skills_len  \n",
       "0                    0          9  \n",
       "1                    0          8  \n",
       "2                    1          1  \n",
       "3                    1         10  \n",
       "4                    0         11  \n",
       "...                ...        ...  \n",
       "19913                1         26  \n",
       "19914                0          3  \n",
       "19915                0         17  \n",
       "19917                1         23  \n",
       "19918                0         21  \n",
       "\n",
       "[16661 rows x 10 columns]"
      ]
     },
     "execution_count": 66,
     "metadata": {},
     "output_type": "execute_result"
    }
   ],
   "source": [
    "dice"
   ]
  },
  {
   "cell_type": "code",
   "execution_count": 67,
   "metadata": {},
   "outputs": [],
   "source": [
    "# exporting final dataframe to csv\n",
    "dice.to_csv('../data/job_postings.csv')"
   ]
  }
 ],
 "metadata": {
  "kernelspec": {
   "display_name": "Python 3",
   "language": "python",
   "name": "python3"
  },
  "language_info": {
   "codemirror_mode": {
    "name": "ipython",
    "version": 3
   },
   "file_extension": ".py",
   "mimetype": "text/x-python",
   "name": "python",
   "nbconvert_exporter": "python",
   "pygments_lexer": "ipython3",
   "version": "3.7.9"
  }
 },
 "nbformat": 4,
 "nbformat_minor": 4
}