{
 "metadata": {
  "language_info": {
   "codemirror_mode": {
    "name": "ipython",
    "version": 3
   },
   "file_extension": ".py",
   "mimetype": "text/x-python",
   "name": "python",
   "nbconvert_exporter": "python",
   "pygments_lexer": "ipython3",
   "version": "3.7.6-final"
  },
  "orig_nbformat": 2,
  "kernelspec": {
   "name": "python3",
   "display_name": "Python 3",
   "language": "python"
  }
 },
 "nbformat": 4,
 "nbformat_minor": 2,
 "cells": [
  {
   "source": [
    "# Process LinkedIn Data"
   ],
   "cell_type": "markdown",
   "metadata": {}
  },
  {
   "cell_type": "code",
   "execution_count": 5,
   "metadata": {},
   "outputs": [],
   "source": [
    "import pandas as pd"
   ]
  },
  {
   "cell_type": "code",
   "execution_count": 16,
   "metadata": {},
   "outputs": [],
   "source": [
    "def import_file(file_name, url):\n",
    "    try:\n",
    "        df = pd.read_csv(url + file_name)\n",
    "        return df\n",
    "    except FileNotFoundError:\n",
    "        print(f\"Missing {file_name} file.\")"
   ]
  },
  {
   "cell_type": "code",
   "execution_count": 35,
   "metadata": {},
   "outputs": [],
   "source": [
    "def linkedin_data(folder_name):\n",
    "    # Loading files\n",
    "    url = f'../data/linkedin/{folder_name}/'\n",
    "    \n",
    "    skills_data = import_file('Skills.csv', url)\n",
    "    positions_data = import_file('Positions.csv', url)\n",
    "    profile_data = import_file('Profile.csv', url)\n",
    "    education_data = import_file('Education.csv', url)\n",
    "\n",
    "    # Extracting information\n",
    "    try:\n",
    "        full_name = profile_data['First Name'] + \" \" + profile_data['Last Name']\n",
    "        summary = profile_data['Summary']\n",
    "    except:\n",
    "        print(\"Profile columns could not be created.\")\n",
    "\n",
    "    try:\n",
    "        position_list = positions_data['Title'].values.tolist()\n",
    "        position_string = ', '.join([str(position) for position in position_list])\n",
    "    except:\n",
    "        print(\"Positions columns could not be created.\")\n",
    "    \n",
    "    try:\n",
    "        skills_list = skills_data.values.tolist()\n",
    "        skills_string = ', '.join([str(skill) for skill in skills_list])\n",
    "        skills_string = skills_string.replace(\"['\", \" \").replace(\"']\", \"\")\n",
    "    except:\n",
    "        print(\"Skills columns could not be created.\")\n",
    "\n",
    "    try:\n",
    "        education_list = education_data['Degree Name'].values.tolist()\n",
    "        education_string = ', '.join([str(education) for education in education_list])\n",
    "    except:\n",
    "        print(\"Education columns could not be created.\")\n",
    "\n",
    "    try:\n",
    "        jobtype_list = jobpref_data['Preferred Job Types'].values.tolist()\n",
    "        jobtype_string = ', '.join([str(jtype) for jtype in jobtype_list])\n",
    "        jobtype_string = jobtype_string.replace(\" | \", \", \")\n",
    "        \n",
    "        prefjob_list = jobpref_data['Job Titles'].values.tolist()\n",
    "        prefjob_string = ', '.join([str(pjob) for pjob in prefjob_list])\n",
    "        prefjob_string = prefjob_string.replace(\" | \", \", \")\n",
    "    except:\n",
    "        print(\"Job preference columns could not be created.\")\n",
    "    \n",
    "    # Building dataframe\n",
    "    data_df = {}\n",
    "    \n",
    "    try: data_df['Name'] = full_name\n",
    "    except: print('Missing name.')\n",
    "    \n",
    "    try: data_df['Titles'] = position_string\n",
    "    except: print('Missing titles.')\n",
    "    \n",
    "    try: data_df['Skills'] = skills_string\n",
    "    except: print('Missing skills.')\n",
    "    \n",
    "    try: data_df['Summary'] = summary\n",
    "    except: print('Missing summary.')\n",
    "\n",
    "    try: data_df['Education'] = education_string\n",
    "    except: print('Missing education.')\n",
    "\n",
    "    try: data_df['Job Type Preference'] = jobtype_string\n",
    "    except: print('Missing job type preference.')\n",
    "\n",
    "    try: data_df['Preferred Job Title'] = prefjob_string\n",
    "    except: print('Missing preferred job title.')\n",
    "\n",
    "    # Saving dataframe\n",
    "    try:\n",
    "        test_linked = pd.DataFrame(data=data_df)\n",
    "        test_linked.to_csv(f'../data/linkedin/test-output/{folder_name}.csv', index=False)\n",
    "    except:\n",
    "        print('Failed to save dataframe.')\n",
    "    \n",
    "    return test_linked"
   ]
  },
  {
   "cell_type": "code",
   "execution_count": 36,
   "metadata": {},
   "outputs": [
    {
     "output_type": "stream",
     "name": "stdout",
     "text": [
      "Job preference columns could not be created.\nMissing job type preference.\nMissing preferred job title.\n"
     ]
    }
   ],
   "source": [
    "df = linkedin_data('Zach_LinkedInData_12-16-2020')"
   ]
  },
  {
   "cell_type": "code",
   "execution_count": 37,
   "metadata": {},
   "outputs": [
    {
     "output_type": "execute_result",
     "data": {
      "text/plain": [
       "            Name                                             Titles  \\\n",
       "0  Zachary Brown  Data Science Fellow, Python Developer, Health ...   \n",
       "\n",
       "                                              Skills  \\\n",
       "0   Data Analysis,  Python (Programming Language)...   \n",
       "\n",
       "                                             Summary  \\\n",
       "0  I bridge the gap between data and climate poli...   \n",
       "\n",
       "                                       Education  \n",
       "0  Data Science Intensive, Bachelor's of Science  "
      ],
      "text/html": "<div>\n<style scoped>\n    .dataframe tbody tr th:only-of-type {\n        vertical-align: middle;\n    }\n\n    .dataframe tbody tr th {\n        vertical-align: top;\n    }\n\n    .dataframe thead th {\n        text-align: right;\n    }\n</style>\n<table border=\"1\" class=\"dataframe\">\n  <thead>\n    <tr style=\"text-align: right;\">\n      <th></th>\n      <th>Name</th>\n      <th>Titles</th>\n      <th>Skills</th>\n      <th>Summary</th>\n      <th>Education</th>\n    </tr>\n  </thead>\n  <tbody>\n    <tr>\n      <th>0</th>\n      <td>Zachary Brown</td>\n      <td>Data Science Fellow, Python Developer, Health ...</td>\n      <td>Data Analysis,  Python (Programming Language)...</td>\n      <td>I bridge the gap between data and climate poli...</td>\n      <td>Data Science Intensive, Bachelor's of Science</td>\n    </tr>\n  </tbody>\n</table>\n</div>"
     },
     "metadata": {},
     "execution_count": 37
    }
   ],
   "source": [
    "df"
   ]
  },
  {
   "cell_type": "code",
   "execution_count": null,
   "metadata": {},
   "outputs": [],
   "source": []
  }
 ]
}